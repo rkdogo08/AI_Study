{
  "nbformat": 4,
  "nbformat_minor": 0,
  "metadata": {
    "colab": {
      "name": "구글드라이브 연동.ipynb",
      "provenance": []
    },
    "kernelspec": {
      "name": "python3",
      "display_name": "Python 3"
    }
  },
  "cells": [
    {
      "cell_type": "markdown",
      "metadata": {
        "id": "7tRFHozwCLOV",
        "colab_type": "text"
      },
      "source": [
        "## Colab과 구글 드라이브 연동"
      ]
    },
    {
      "cell_type": "code",
      "metadata": {
        "id": "6t3x2Tyf_SuN",
        "colab_type": "code",
        "colab": {
          "base_uri": "https://localhost:8080/",
          "height": 125
        },
        "outputId": "cb8c1841-e844-45e9-f78e-8ca460b07b78"
      },
      "source": [
        "from google.colab import drive\n",
        "drive.mount('/content/gdrive/')\n"
      ],
      "execution_count": 3,
      "outputs": [
        {
          "output_type": "stream",
          "text": [
            "Go to this URL in a browser: https://accounts.google.com/o/oauth2/auth?client_id=947318989803-6bn6qk8qdgf4n4g3pfee6491hc0brc4i.apps.googleusercontent.com&redirect_uri=urn%3aietf%3awg%3aoauth%3a2.0%3aoob&response_type=code&scope=email%20https%3a%2f%2fwww.googleapis.com%2fauth%2fdocs.test%20https%3a%2f%2fwww.googleapis.com%2fauth%2fdrive%20https%3a%2f%2fwww.googleapis.com%2fauth%2fdrive.photos.readonly%20https%3a%2f%2fwww.googleapis.com%2fauth%2fpeopleapi.readonly\n",
            "\n",
            "Enter your authorization code:\n",
            "··········\n",
            "Mounted at /content/gdrive/\n"
          ],
          "name": "stdout"
        }
      ]
    },
    {
      "cell_type": "markdown",
      "metadata": {
        "id": "J7NojUTuCQor",
        "colab_type": "text"
      },
      "source": [
        "## 구글 드라이브로부터 가져온 이미지 제이터 저장"
      ]
    },
    {
      "cell_type": "code",
      "metadata": {
        "id": "B5HRJXRdBcL3",
        "colab_type": "code",
        "colab": {}
      },
      "source": [
        "def load_train_data(img_size,step_size):\n",
        "  train_root_path=\"/content/gdrive/My Drive/catdog/train\"\n",
        "  len(os.listdir(train_root_path))\n",
        "  train_data=[]\n",
        "  label=[]\n",
        "  train_des=[]\n",
        "  cn=1\n",
        "  for lis in tqdm(class_name):\n",
        "  #for lis in tqdm(class_name[:25]):\n",
        "    img_list=os.listdir(train_root_path+'/'+lis)\n",
        "    for i in img_list:\n",
        "      gray=resize(train_root_path+'/'+lis+'/'+i,img_size)\n",
        "      train_des.append(dense_sift(gray,step_size))\n",
        "      #train_data.append(gray)\n",
        "      label.append(cn)\n",
        "    cn+=1\n",
        "  train_des=np.array(train_des)\n",
        "  return train_des,label"
      ],
      "execution_count": null,
      "outputs": []
    }
  ]
}
